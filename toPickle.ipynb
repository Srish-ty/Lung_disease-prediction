{
 "cells": [
  {
   "cell_type": "code",
   "execution_count": 5,
   "id": "f0163b50",
   "metadata": {},
   "outputs": [
    {
     "name": "stdout",
     "output_type": "stream",
     "text": [
      "['102_1b1_Ar_sc_Meditron.wav' '103_2b2_Ar_mc_LittC2SE.wav'\n",
      " '104_1b1_Al_sc_Litt3200.wav' '106_2b1_Pr_mc_LittC2SE.wav'\n",
      " '107_2b3_Al_mc_AKGC417L.wav' '109_1b1_Al_sc_Litt3200.wav'\n",
      " '110_1p1_Al_sc_Meditron.wav' '111_1b3_Tc_sc_Meditron.wav'\n",
      " '112_1b1_Ar_sc_Meditron.wav' '113_1b1_Al_sc_Litt3200.wav'\n",
      " '114_1b4_Al_mc_AKGC417L.wav' '116_1b2_Tc_sc_Meditron.wav'\n",
      " '117_1b2_Tc_mc_LittC2SE.wav' '118_1b1_Al_sc_Litt3200.wav'\n",
      " '120_1b1_Al_sc_Meditron.wav' '121_1p1_Tc_sc_Meditron.wav'\n",
      " '122_2b3_Al_mc_LittC2SE.wav' '123_1b1_Al_sc_Meditron.wav'\n",
      " '124_1b1_Al_sc_Litt3200.wav' '125_1b1_Tc_sc_Meditron.wav'\n",
      " '126_1b1_Al_sc_Meditron.wav' '127_1b1_Ar_sc_Meditron.wav'\n",
      " '128_1b3_Tc_mc_LittC2SE.wav' '130_1p2_Al_mc_AKGC417L.wav'\n",
      " '132_2b1_Lr_mc_LittC2SE.wav' '133_2p2_Al_mc_AKGC417L.wav'\n",
      " '134_2b1_Al_mc_LittC2SE.wav' '135_2b2_Al_mc_LittC2SE.wav'\n",
      " '136_1b1_Ar_sc_Meditron.wav' '138_1p2_Pl_mc_AKGC417L.wav'\n",
      " '139_1b1_Al_sc_Litt3200.wav' '140_2b3_Ll_mc_LittC2SE.wav'\n",
      " '141_1b2_Ar_mc_LittC2SE.wav' '142_1b1_Pl_mc_LittC2SE.wav'\n",
      " '143_1b1_Al_sc_Meditron.wav' '144_1b1_Al_sc_Meditron.wav'\n",
      " '145_2b2_Al_mc_AKGC417L.wav' '146_2b4_Al_mc_AKGC417L.wav'\n",
      " '147_2b2_Al_mc_AKGC417L.wav' '149_1b1_Pl_sc_Meditron.wav'\n",
      " '151_2p4_Al_mc_AKGC417L.wav' '152_1b1_Al_sc_Meditron.wav'\n",
      " '153_1b1_Al_sc_Meditron.wav' '154_1b3_Al_mc_AKGC417L.wav'\n",
      " '155_2b1_Al_mc_LittC2SE.wav' '156_2b3_Al_mc_AKGC417L.wav'\n",
      " '157_1b1_Al_sc_Meditron.wav' '158_1p3_Al_mc_AKGC417L.wav'\n",
      " '159_1b1_Al_sc_Meditron.wav' '160_1b3_Al_mc_AKGC417L.wav'\n",
      " '161_1b1_Al_sc_Meditron.wav' '162_1b2_Al_mc_AKGC417L.wav'\n",
      " '163_2b2_Al_mc_AKGC417L.wav' '166_1p1_Ar_sc_Meditron.wav'\n",
      " '167_1b1_Al_sc_Meditron.wav' '168_1b1_Al_sc_Meditron.wav'\n",
      " '169_1b1_Lr_sc_Meditron.wav' '170_1b3_Al_mc_AKGC417L.wav'\n",
      " '171_1b1_Al_sc_Meditron.wav' '172_1b4_Al_mc_AKGC417L.wav'\n",
      " '174_1p2_Ar_mc_AKGC417L.wav' '175_1b1_Al_sc_Litt3200.wav'\n",
      " '176_1b4_Al_mc_AKGC417L.wav' '177_1b2_Al_mc_AKGC417L.wav'\n",
      " '178_1b3_Al_mc_AKGC417L.wav' '179_1b1_Al_sc_Meditron.wav'\n",
      " '180_1b4_Ar_mc_AKGC417L.wav' '181_1b2_Ar_mc_LittC2SE.wav'\n",
      " '182_1b1_Tc_sc_Meditron.wav' '183_1b1_Tc_sc_Meditron.wav'\n",
      " '184_1b1_Ar_sc_Meditron.wav' '185_1b1_Lr_sc_Litt3200.wav'\n",
      " '187_1b1_Ll_sc_Meditron.wav' '191_2b2_Tc_mc_LittC2SE.wav'\n",
      " '194_1b1_Pr_sc_Meditron.wav' '196_1b1_Pr_sc_Meditron.wav'\n",
      " '201_1b1_Al_sc_Meditron.wav' '202_1b1_Ar_sc_Meditron.wav'\n",
      " '206_1b1_Ar_sc_Meditron.wav' '208_1b1_Ll_sc_Meditron.wav'\n",
      " '209_1b1_Tc_sc_Meditron.wav' '214_1b1_Ar_sc_Meditron.wav'\n",
      " '215_1b2_Ar_sc_Meditron.wav' '216_1b1_Pl_sc_Meditron.wav'\n",
      " '217_1b1_Tc_sc_Meditron.wav' '219_2b1_Ar_mc_LittC2SE.wav'\n",
      " '224_1b2_Al_sc_Meditron.wav' '225_1b1_Pl_sc_Meditron.wav'\n",
      " '226_1b1_Al_sc_Meditron.wav']\n",
      "(89,)\n"
     ]
    }
   ],
   "source": [
    "import numpy as np\n",
    "import os\n",
    "import librosa\n",
    " \n",
    "path = \"C:/Users/srush/Downloads/Stethaim/my_Trial1\" \n",
    "files = os.listdir(\"./COPD\")\n",
    "x = np.array(files)\n",
    "print(x)\n",
    "print(x.shape)"
   ]
  },
  {
   "cell_type": "code",
   "execution_count": 6,
   "id": "6d927637",
   "metadata": {},
   "outputs": [
    {
     "data": {
      "text/plain": [
       "0       Healthy\n",
       "1        Asthma\n",
       "2          COPD\n",
       "3          COPD\n",
       "4          COPD\n",
       "        ...    \n",
       "84      Healthy\n",
       "85    Pneumonia\n",
       "86      Healthy\n",
       "87      Healthy\n",
       "88    Pneumonia\n",
       "Name: Disease, Length: 89, dtype: object"
      ]
     },
     "execution_count": 6,
     "metadata": {},
     "output_type": "execute_result"
    }
   ],
   "source": [
    "import pandas as pd\n",
    "\n",
    "chosen_pids= pd.read_csv(\"./ylabels/chosen_pid.csv\")\n",
    "diseases = chosen_pids['Disease']\n",
    "diseases"
   ]
  },
  {
   "cell_type": "code",
   "execution_count": 7,
   "id": "6ac0ff2e",
   "metadata": {},
   "outputs": [
    {
     "data": {
      "text/plain": [
       "COPD              44\n",
       "Healthy           26\n",
       "Bronchiectasis     7\n",
       "Pneumonia          6\n",
       "Bronchiolitis      5\n",
       "Asthma             1\n",
       "Name: Disease, dtype: int64"
      ]
     },
     "execution_count": 7,
     "metadata": {},
     "output_type": "execute_result"
    }
   ],
   "source": [
    "diseases.value_counts()"
   ]
  },
  {
   "cell_type": "code",
   "execution_count": 8,
   "id": "396ecf2b",
   "metadata": {},
   "outputs": [
    {
     "data": {
      "text/plain": [
       "array([4, 0, 3, 3, 3, 3, 3, 1, 3, 3, 3, 1, 3, 3, 3, 4, 5, 4, 3, 4, 4, 4,\n",
       "       3, 3, 3, 3, 3, 5, 4, 3, 3, 5, 3, 3, 4, 4, 3, 3, 3, 2, 3, 4, 4, 3,\n",
       "       3, 3, 3, 3, 4, 3, 2, 3, 3, 3, 2, 1, 1, 3, 4, 3, 3, 3, 3, 3, 3, 4,\n",
       "       3, 3, 4, 4, 4, 3, 4, 5, 4, 1, 1, 4, 2, 4, 4, 4, 1, 2, 4, 5, 4, 4,\n",
       "       5])"
      ]
     },
     "execution_count": 8,
     "metadata": {},
     "output_type": "execute_result"
    }
   ],
   "source": [
    "from sklearn import preprocessing\n",
    "\n",
    "label_encoder = preprocessing.LabelEncoder()\n",
    "y= label_encoder.fit_transform(diseases)\n",
    "y"
   ]
  },
  {
   "cell_type": "code",
   "execution_count": 9,
   "id": "f73e82b3",
   "metadata": {},
   "outputs": [
    {
     "data": {
      "text/plain": [
       "(441000,)"
      ]
     },
     "execution_count": 9,
     "metadata": {},
     "output_type": "execute_result"
    }
   ],
   "source": [
    "#sr =22050\n",
    "file0, fs = librosa.load(\"./COPD/\"+files[0])\n",
    "file0.shape"
   ]
  },
  {
   "cell_type": "code",
   "execution_count": 10,
   "id": "56756272",
   "metadata": {},
   "outputs": [
    {
     "data": {
      "text/plain": [
       "array([ 0.00281204,  0.00424882,  0.00363448, ..., -0.01351928,\n",
       "       -0.01411754, -0.01586503], dtype=float32)"
      ]
     },
     "execution_count": 10,
     "metadata": {},
     "output_type": "execute_result"
    }
   ],
   "source": [
    "file0"
   ]
  },
  {
   "cell_type": "code",
   "execution_count": 11,
   "id": "cdd5655a",
   "metadata": {},
   "outputs": [
    {
     "data": {
      "text/plain": [
       "(20, 862)"
      ]
     },
     "execution_count": 11,
     "metadata": {},
     "output_type": "execute_result"
    }
   ],
   "source": [
    "mfcc0= librosa.feature.mfcc(y=file0)\n",
    "mfcc0.shape"
   ]
  },
  {
   "cell_type": "code",
   "execution_count": 12,
   "id": "f0a0c122",
   "metadata": {},
   "outputs": [
    {
     "data": {
      "text/plain": [
       "array([[-4.73800293e+02, -4.73387695e+02, -5.33539490e+02, ...,\n",
       "        -5.59948975e+02, -5.28503845e+02, -4.37487183e+02],\n",
       "       [ 2.03323517e+02,  2.13104126e+02,  1.60924103e+02, ...,\n",
       "         1.65051361e+02,  1.63385818e+02,  1.27486916e+02],\n",
       "       [ 3.95224266e+01,  4.97598038e+01,  4.51722412e+01, ...,\n",
       "         9.69565353e+01,  6.71561279e+01,  4.18637238e+01],\n",
       "       ...,\n",
       "       [ 8.94394875e+00,  7.11337280e+00,  7.69754362e+00, ...,\n",
       "         2.03286219e+00,  6.86473608e-01, -2.49903232e-01],\n",
       "       [ 9.56121826e+00,  7.21283960e+00,  2.37271500e+00, ...,\n",
       "         4.24898720e+00, -1.18030131e-01, -8.69750261e-01],\n",
       "       [-2.58822441e+00, -1.03840828e+00,  3.88324118e+00, ...,\n",
       "         3.55745125e+00,  1.51277423e-01,  7.83264637e-01]], dtype=float32)"
      ]
     },
     "execution_count": 12,
     "metadata": {},
     "output_type": "execute_result"
    }
   ],
   "source": [
    "mfcc0"
   ]
  },
  {
   "cell_type": "code",
   "execution_count": 13,
   "id": "1c12419c",
   "metadata": {},
   "outputs": [],
   "source": [
    "X=[]"
   ]
  },
  {
   "cell_type": "code",
   "execution_count": 14,
   "id": "edc8d547",
   "metadata": {},
   "outputs": [],
   "source": [
    "for file in files:\n",
    "    fl, sr = librosa.load(\"./COPD/\"+file)\n",
    "    mfccs = librosa.feature.mfcc(y=fl)\n",
    "    X.append(np.mean(mfccs, axis=1))"
   ]
  },
  {
   "cell_type": "code",
   "execution_count": 15,
   "id": "fc9734e6",
   "metadata": {},
   "outputs": [
    {
     "data": {
      "text/plain": [
       "(89, 20)"
      ]
     },
     "execution_count": 15,
     "metadata": {},
     "output_type": "execute_result"
    }
   ],
   "source": [
    "X=np.array(X)\n",
    "X.shape"
   ]
  },
  {
   "cell_type": "code",
   "execution_count": null,
   "id": "07149b37",
   "metadata": {},
   "outputs": [],
   "source": []
  },
  {
   "cell_type": "code",
   "execution_count": 16,
   "id": "b4195f93",
   "metadata": {},
   "outputs": [],
   "source": [
    "from sklearn.model_selection import train_test_split\n",
    "\n",
    "X_train, X_test, y_train, y_test = train_test_split(X, y, test_size=0.2)"
   ]
  },
  {
   "cell_type": "code",
   "execution_count": 17,
   "id": "1f386b60",
   "metadata": {},
   "outputs": [
    {
     "data": {
      "text/plain": [
       "(71, 20)"
      ]
     },
     "execution_count": 17,
     "metadata": {},
     "output_type": "execute_result"
    }
   ],
   "source": [
    "X_train.shape"
   ]
  },
  {
   "cell_type": "code",
   "execution_count": 18,
   "id": "468dd668",
   "metadata": {},
   "outputs": [
    {
     "data": {
      "text/html": [
       "<style>#sk-container-id-1 {color: black;background-color: white;}#sk-container-id-1 pre{padding: 0;}#sk-container-id-1 div.sk-toggleable {background-color: white;}#sk-container-id-1 label.sk-toggleable__label {cursor: pointer;display: block;width: 100%;margin-bottom: 0;padding: 0.3em;box-sizing: border-box;text-align: center;}#sk-container-id-1 label.sk-toggleable__label-arrow:before {content: \"▸\";float: left;margin-right: 0.25em;color: #696969;}#sk-container-id-1 label.sk-toggleable__label-arrow:hover:before {color: black;}#sk-container-id-1 div.sk-estimator:hover label.sk-toggleable__label-arrow:before {color: black;}#sk-container-id-1 div.sk-toggleable__content {max-height: 0;max-width: 0;overflow: hidden;text-align: left;background-color: #f0f8ff;}#sk-container-id-1 div.sk-toggleable__content pre {margin: 0.2em;color: black;border-radius: 0.25em;background-color: #f0f8ff;}#sk-container-id-1 input.sk-toggleable__control:checked~div.sk-toggleable__content {max-height: 200px;max-width: 100%;overflow: auto;}#sk-container-id-1 input.sk-toggleable__control:checked~label.sk-toggleable__label-arrow:before {content: \"▾\";}#sk-container-id-1 div.sk-estimator input.sk-toggleable__control:checked~label.sk-toggleable__label {background-color: #d4ebff;}#sk-container-id-1 div.sk-label input.sk-toggleable__control:checked~label.sk-toggleable__label {background-color: #d4ebff;}#sk-container-id-1 input.sk-hidden--visually {border: 0;clip: rect(1px 1px 1px 1px);clip: rect(1px, 1px, 1px, 1px);height: 1px;margin: -1px;overflow: hidden;padding: 0;position: absolute;width: 1px;}#sk-container-id-1 div.sk-estimator {font-family: monospace;background-color: #f0f8ff;border: 1px dotted black;border-radius: 0.25em;box-sizing: border-box;margin-bottom: 0.5em;}#sk-container-id-1 div.sk-estimator:hover {background-color: #d4ebff;}#sk-container-id-1 div.sk-parallel-item::after {content: \"\";width: 100%;border-bottom: 1px solid gray;flex-grow: 1;}#sk-container-id-1 div.sk-label:hover label.sk-toggleable__label {background-color: #d4ebff;}#sk-container-id-1 div.sk-serial::before {content: \"\";position: absolute;border-left: 1px solid gray;box-sizing: border-box;top: 0;bottom: 0;left: 50%;z-index: 0;}#sk-container-id-1 div.sk-serial {display: flex;flex-direction: column;align-items: center;background-color: white;padding-right: 0.2em;padding-left: 0.2em;position: relative;}#sk-container-id-1 div.sk-item {position: relative;z-index: 1;}#sk-container-id-1 div.sk-parallel {display: flex;align-items: stretch;justify-content: center;background-color: white;position: relative;}#sk-container-id-1 div.sk-item::before, #sk-container-id-1 div.sk-parallel-item::before {content: \"\";position: absolute;border-left: 1px solid gray;box-sizing: border-box;top: 0;bottom: 0;left: 50%;z-index: -1;}#sk-container-id-1 div.sk-parallel-item {display: flex;flex-direction: column;z-index: 1;position: relative;background-color: white;}#sk-container-id-1 div.sk-parallel-item:first-child::after {align-self: flex-end;width: 50%;}#sk-container-id-1 div.sk-parallel-item:last-child::after {align-self: flex-start;width: 50%;}#sk-container-id-1 div.sk-parallel-item:only-child::after {width: 0;}#sk-container-id-1 div.sk-dashed-wrapped {border: 1px dashed gray;margin: 0 0.4em 0.5em 0.4em;box-sizing: border-box;padding-bottom: 0.4em;background-color: white;}#sk-container-id-1 div.sk-label label {font-family: monospace;font-weight: bold;display: inline-block;line-height: 1.2em;}#sk-container-id-1 div.sk-label-container {text-align: center;}#sk-container-id-1 div.sk-container {/* jupyter's `normalize.less` sets `[hidden] { display: none; }` but bootstrap.min.css set `[hidden] { display: none !important; }` so we also need the `!important` here to be able to override the default hidden behavior on the sphinx rendered scikit-learn.org. See: https://github.com/scikit-learn/scikit-learn/issues/21755 */display: inline-block !important;position: relative;}#sk-container-id-1 div.sk-text-repr-fallback {display: none;}</style><div id=\"sk-container-id-1\" class=\"sk-top-container\"><div class=\"sk-text-repr-fallback\"><pre>RandomForestClassifier()</pre><b>In a Jupyter environment, please rerun this cell to show the HTML representation or trust the notebook. <br />On GitHub, the HTML representation is unable to render, please try loading this page with nbviewer.org.</b></div><div class=\"sk-container\" hidden><div class=\"sk-item\"><div class=\"sk-estimator sk-toggleable\"><input class=\"sk-toggleable__control sk-hidden--visually\" id=\"sk-estimator-id-1\" type=\"checkbox\" checked><label for=\"sk-estimator-id-1\" class=\"sk-toggleable__label sk-toggleable__label-arrow\">RandomForestClassifier</label><div class=\"sk-toggleable__content\"><pre>RandomForestClassifier()</pre></div></div></div></div></div>"
      ],
      "text/plain": [
       "RandomForestClassifier()"
      ]
     },
     "execution_count": 18,
     "metadata": {},
     "output_type": "execute_result"
    }
   ],
   "source": [
    "from sklearn.ensemble import RandomForestClassifier\n",
    "\n",
    "model = RandomForestClassifier()\n",
    "\n",
    "model.fit(X_train, y_train)"
   ]
  },
  {
   "cell_type": "code",
   "execution_count": 19,
   "id": "5441a63b",
   "metadata": {},
   "outputs": [
    {
     "data": {
      "text/plain": [
       "0.8333333333333334"
      ]
     },
     "execution_count": 19,
     "metadata": {},
     "output_type": "execute_result"
    }
   ],
   "source": [
    "model.score(X_test, y_test)"
   ]
  },
  {
   "cell_type": "code",
   "execution_count": 20,
   "id": "6c611278",
   "metadata": {},
   "outputs": [],
   "source": [
    "import pickle\n",
    "\n",
    "pickle.dump(model, open('Prot0.pkl','wb'))"
   ]
  }
 ],
 "metadata": {
  "kernelspec": {
   "display_name": "Python 3.10.7 64-bit",
   "language": "python",
   "name": "python3"
  },
  "language_info": {
   "codemirror_mode": {
    "name": "ipython",
    "version": 3
   },
   "file_extension": ".py",
   "mimetype": "text/x-python",
   "name": "python",
   "nbconvert_exporter": "python",
   "pygments_lexer": "ipython3",
   "version": "3.10.7"
  },
  "vscode": {
   "interpreter": {
    "hash": "528dc0f85dd7efb03e58a75e04b0d412af2c254d5fa6354863329b45da0d36bb"
   }
  }
 },
 "nbformat": 4,
 "nbformat_minor": 5
}
